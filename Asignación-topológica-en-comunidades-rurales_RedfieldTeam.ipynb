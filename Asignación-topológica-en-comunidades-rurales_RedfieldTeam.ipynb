{
 "cells": [
  {
   "cell_type": "code",
   "execution_count": 1,
   "id": "e67245d8",
   "metadata": {},
   "outputs": [],
   "source": [
    "'''\n",
    "𝑝𝑜𝑏𝐴𝑐𝑡𝑢𝑎𝑙 = 𝐺𝑒𝑛𝑃𝑜𝑏()//Generar poblaciones aleatorias\n",
    "𝑚𝑎𝑥𝐼𝑡𝑒𝑟𝑎𝑐𝑖𝑜𝑛𝑒𝑠 = 100\n",
    "𝑐𝑜𝑛𝑡𝑎𝑑𝑜𝑟 = 0\n",
    "𝑓𝑖𝑡𝑛𝑒𝑠𝑠 = 𝑔𝑒𝑡𝐹𝑖𝑡𝑛𝑒𝑠𝑠(𝑝𝑜𝑏𝐴𝑐𝑡𝑢𝑎𝑙)\n",
    "𝑊ℎ𝑖𝑙𝑒(𝑐𝑜𝑛𝑡𝑎𝑑𝑜𝑟 < 𝑚𝑎𝑥𝐼𝑡𝑒𝑟𝑎𝑐𝑖𝑜𝑛𝑒𝑠){\n",
    "𝑐𝑟𝑜𝑠𝑠 = 𝑐𝑟𝑜𝑠𝑠𝑜𝑣𝑒𝑟(𝑝𝑜𝑏𝐴𝑐𝑡𝑢𝑎𝑙, 0. 7)\n",
    "𝑚𝑢𝑡 = 𝑚𝑢𝑡𝑎𝑐𝑖ó𝑛(𝑝𝑜𝑏𝐴𝑐𝑡𝑢𝑎𝑙, 0. 3)\n",
    "𝑛𝑒𝑤𝑃𝑜𝑏 = 𝑐𝑟𝑜𝑠𝑠. 𝑎𝑝𝑝𝑒𝑛𝑑(𝑚𝑢𝑡)\n",
    "𝑛𝑒𝑤𝐹𝑖𝑡𝑛𝑒𝑠𝑠 = 𝑔𝑒𝑡𝐹𝑖𝑡𝑛𝑒𝑠𝑠(𝑛𝑒𝑤𝑃𝑜𝑏)\n",
    "𝑖𝑓(𝑛𝑒𝑤𝐹𝑖𝑡𝑛𝑒𝑠𝑠 > 𝑓𝑖𝑡𝑛𝑒𝑠𝑠)\n",
    "𝑓𝑖𝑡𝑛𝑒𝑠𝑠 = 𝑛𝑒𝑤𝐹𝑖𝑡𝑛𝑒𝑠𝑠\n",
    "𝑝𝑜𝑏𝐴𝑐𝑡𝑢𝑎𝑙 = 𝑔𝑒𝑡𝑃𝑜𝑏(𝑛𝑒𝑤𝑃𝑜𝑏, 𝑝𝑜𝑏𝐴𝑐𝑡𝑢𝑎𝑙)//devuelve 50% de los\n",
    "mejores, 25% aleatorio y 25% de los mejores de la población\n",
    "anterior\n",
    "𝑐𝑜𝑛𝑡𝑎𝑑𝑜𝑟 ++\n",
    "}\n",
    "𝑠𝑜𝑙𝑢𝑐𝑖ó𝑛 = 𝑔𝑒𝑡𝑀𝑒𝑗𝑜𝑟𝐶𝑟𝑜𝑚𝑜𝑠𝑜𝑚𝑎(𝑝𝑜𝑏𝐴𝑐𝑡𝑢𝑎𝑙)\n",
    "𝑟𝑒𝑡𝑢𝑟𝑛 𝑠𝑜𝑙𝑢𝑐𝑖ón\n",
    "'''\n",
    "import numpy as np"
   ]
  },
  {
   "cell_type": "markdown",
   "id": "686bbd6a",
   "metadata": {},
   "source": [
    "![image](grilla.png)"
   ]
  },
  {
   "cell_type": "code",
   "execution_count": 31,
   "id": "006b00b7",
   "metadata": {},
   "outputs": [
    {
     "name": "stdout",
     "output_type": "stream",
     "text": [
      "[[1. 1. 1. 1. 1. 1. 1. 1. 1. 1. 1. 1. 1.]\n",
      " [1. 1. 1. 1. 1. 1. 1. 1. 1. 1. 1. 1. 1.]\n",
      " [1. 1. 1. 1. 1. 1. 1. 1. 1. 1. 1. 1. 1.]\n",
      " [1. 1. 1. 1. 1. 1. 1. 1. 1. 1. 1. 1. 1.]\n",
      " [1. 1. 1. 1. 1. 1. 1. 1. 1. 1. 1. 1. 1.]\n",
      " [1. 1. 1. 1. 1. 1. 1. 1. 1. 1. 1. 1. 1.]\n",
      " [1. 1. 1. 1. 1. 1. 1. 1. 1. 1. 1. 1. 1.]\n",
      " [1. 1. 1. 1. 1. 1. 1. 1. 1. 1. 1. 1. 1.]\n",
      " [1. 1. 1. 1. 1. 1. 1. 1. 1. 1. 1. 1. 1.]] (9, 13)\n",
      "[[0. 0. 0. 1. 1. 1. 0. 1. 1. 1. 1. 1. 0.]\n",
      " [0. 1. 1. 1. 1. 1. 1. 1. 1. 0. 1. 1. 0.]\n",
      " [0. 0. 0. 0. 0. 1. 1. 1. 1. 0. 1. 1. 0.]\n",
      " [0. 0. 0. 0. 1. 1. 1. 1. 0. 1. 0. 1. 1.]\n",
      " [0. 0. 0. 0. 0. 1. 1. 1. 0. 0. 0. 1. 0.]\n",
      " [0. 0. 0. 0. 0. 0. 1. 1. 0. 1. 0. 1. 1.]\n",
      " [0. 0. 0. 0. 0. 0. 1. 1. 1. 1. 1. 1. 1.]\n",
      " [0. 0. 0. 0. 0. 0. 0. 1. 1. 1. 1. 1. 1.]\n",
      " [0. 0. 0. 0. 0. 0. 0. 1. 1. 0. 1. 1. 1.]]\n"
     ]
    }
   ],
   "source": [
    "max_iteraciones = 100\n",
    "contador = 0\n",
    "graph = np.ones((9,13))\n",
    "print(graph,\n",
    "graph.shape)\n",
    "\n",
    "inaccessible = np.array([0, 1, 2, 6, 12,\n",
    "                13, 22, 25,\n",
    "                26, 27, 28, 29 ,30, 35, 38,\n",
    "               39, 40, 41, 42, 47, 49,\n",
    "               52, 53, 54, 55, 56, 60, 61, 62, 64,\n",
    "               65, 66, 67, 68, 69, 70, 73, 75,\n",
    "               78, 79, 80, 81, 82, 83,\n",
    "               91, 92, 93, 94, 95, 96, 97,\n",
    "               104, 105, 106, 107, 108, 109, 110, 113])\n",
    "\n",
    "for row in range(graph.shape[0]):\n",
    "    for col in range(graph.shape[1]):\n",
    "        if row*graph.shape[1] + col in inaccessible:\n",
    "            graph[row][col] = 0\n",
    "            \n",
    "print(graph)"
   ]
  },
  {
   "cell_type": "code",
   "execution_count": 38,
   "id": "c00a057c",
   "metadata": {},
   "outputs": [
    {
     "name": "stdout",
     "output_type": "stream",
     "text": [
      "[[0. 0. 0. 0. 0. 0. 0. 0. 0. 0. 0. 0. 0.]\n",
      " [0. 1. 0. 0. 0. 0. 0. 1. 1. 0. 0. 0. 0.]\n",
      " [0. 0. 0. 0. 0. 0. 0. 0. 0. 0. 0. 0. 0.]\n",
      " [0. 0. 0. 0. 0. 0. 0. 1. 0. 0. 0. 0. 0.]\n",
      " [0. 0. 0. 0. 0. 0. 0. 0. 0. 0. 0. 0. 0.]\n",
      " [0. 0. 0. 0. 0. 0. 0. 0. 0. 0. 0. 1. 0.]\n",
      " [0. 0. 0. 0. 0. 0. 0. 0. 0. 0. 0. 0. 0.]\n",
      " [0. 0. 0. 0. 0. 0. 0. 0. 0. 0. 0. 0. 0.]\n",
      " [0. 0. 0. 0. 0. 0. 0. 1. 0. 0. 0. 0. 0.]]\n"
     ]
    }
   ],
   "source": [
    "town_matrix = np.zeros((9, 13))\n",
    "\n",
    "town = np.array([\n",
    "    14, 20, 21,\n",
    "    46,\n",
    "    76,\n",
    "    111\n",
    "])\n",
    "\n",
    "for row in range(town_matrix.shape[0]):\n",
    "    for col in range(town_matrix.shape[1]):\n",
    "        if row*town_matrix.shape[1] + col in town:\n",
    "            town_matrix[row][col] = 1\n",
    "            \n",
    "\n",
    "print(town_matrix)"
   ]
  },
  {
   "cell_type": "code",
   "execution_count": 51,
   "id": "e9445c15",
   "metadata": {},
   "outputs": [
    {
     "data": {
      "text/plain": [
       "0.23669362133151273"
      ]
     },
     "execution_count": 51,
     "metadata": {},
     "output_type": "execute_result"
    }
   ],
   "source": [
    "np.random.uniform(0, 1)"
   ]
  },
  {
   "cell_type": "code",
   "execution_count": 116,
   "id": "870cf26d",
   "metadata": {},
   "outputs": [],
   "source": [
    "def genPob(inaccessible_areas, towns, n=20):\n",
    "    poblation_matrix = np.array([[]])\n",
    "    for iter in range(n):\n",
    "        antenna_matrix = np.zeros((9, 13))\n",
    "        for row in range(antenna_matrix.shape[0]):\n",
    "            for col in range(antenna_matrix.shape[1]):\n",
    "                if ((row*antenna_matrix.shape[1] + col not in inaccessible_areas and np.random.uniform(0, 1) >= 0.5) or (row*antenna_matrix.shape[1] + col in towns)):\n",
    "                    antenna_matrix[row][col] = 1\n",
    "        #print(antenna_matrix)\n",
    "        if poblation_matrix.size == 0:\n",
    "            poblation_matrix = antenna_matrix\n",
    "        else:\n",
    "            poblation_matrix = np.append(poblation_matrix, antenna_matrix, axis=0)\n",
    "    return poblation_matrix\n",
    "    "
   ]
  },
  {
   "cell_type": "code",
   "execution_count": 117,
   "id": "7d4dff71",
   "metadata": {},
   "outputs": [
    {
     "name": "stdout",
     "output_type": "stream",
     "text": [
      "[[0. 0. 0. ... 1. 0. 0.]\n",
      " [0. 1. 0. ... 0. 1. 0.]\n",
      " [0. 0. 0. ... 1. 0. 0.]\n",
      " ...\n",
      " [0. 0. 0. ... 0. 1. 1.]\n",
      " [0. 0. 0. ... 1. 0. 0.]\n",
      " [0. 0. 0. ... 1. 1. 1.]]\n"
     ]
    }
   ],
   "source": [
    "print(genPob(inaccessible, town))"
   ]
  },
  {
   "cell_type": "code",
   "execution_count": null,
   "id": "81ca7dd2",
   "metadata": {},
   "outputs": [],
   "source": []
  },
  {
   "cell_type": "code",
   "execution_count": null,
   "id": "c4686bf5",
   "metadata": {},
   "outputs": [],
   "source": []
  }
 ],
 "metadata": {
  "kernelspec": {
   "display_name": "Python 3",
   "language": "python",
   "name": "python3"
  },
  "language_info": {
   "codemirror_mode": {
    "name": "ipython",
    "version": 3
   },
   "file_extension": ".py",
   "mimetype": "text/x-python",
   "name": "python",
   "nbconvert_exporter": "python",
   "pygments_lexer": "ipython3",
   "version": "3.8.10"
  }
 },
 "nbformat": 4,
 "nbformat_minor": 5
}
