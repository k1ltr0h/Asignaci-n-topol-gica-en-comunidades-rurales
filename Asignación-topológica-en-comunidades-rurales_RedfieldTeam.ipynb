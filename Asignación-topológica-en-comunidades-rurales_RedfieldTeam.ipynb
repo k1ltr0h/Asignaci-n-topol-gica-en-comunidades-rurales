{
 "cells": [
  {
   "cell_type": "code",
   "execution_count": 183,
   "id": "f0254929",
   "metadata": {},
   "outputs": [],
   "source": [
    "'''\n",
    "𝑝𝑜𝑏𝐴𝑐𝑡𝑢𝑎𝑙 = 𝐺𝑒𝑛𝑃𝑜𝑏()//Generar poblaciones aleatorias\n",
    "𝑚𝑎𝑥𝐼𝑡𝑒𝑟𝑎𝑐𝑖𝑜𝑛𝑒𝑠 = 100\n",
    "𝑐𝑜𝑛𝑡𝑎𝑑𝑜𝑟 = 0\n",
    "𝑓𝑖𝑡𝑛𝑒𝑠𝑠 = 𝑔𝑒𝑡𝐹𝑖𝑡𝑛𝑒𝑠𝑠(𝑝𝑜𝑏𝐴𝑐𝑡𝑢𝑎𝑙)\n",
    "𝑊ℎ𝑖𝑙𝑒(𝑐𝑜𝑛𝑡𝑎𝑑𝑜𝑟 < 𝑚𝑎𝑥𝐼𝑡𝑒𝑟𝑎𝑐𝑖𝑜𝑛𝑒𝑠){\n",
    "𝑐𝑟𝑜𝑠𝑠 = 𝑐𝑟𝑜𝑠𝑠𝑜𝑣𝑒𝑟(𝑝𝑜𝑏𝐴𝑐𝑡𝑢𝑎𝑙, 0. 7)\n",
    "𝑚𝑢𝑡 = 𝑚𝑢𝑡𝑎𝑐𝑖ó𝑛(𝑝𝑜𝑏𝐴𝑐𝑡𝑢𝑎𝑙, 0. 3)\n",
    "𝑛𝑒𝑤𝑃𝑜𝑏 = 𝑐𝑟𝑜𝑠𝑠. 𝑎𝑝𝑝𝑒𝑛𝑑(𝑚𝑢𝑡)\n",
    "𝑛𝑒𝑤𝐹𝑖𝑡𝑛𝑒𝑠𝑠 = 𝑔𝑒𝑡𝐹𝑖𝑡𝑛𝑒𝑠𝑠(𝑛𝑒𝑤𝑃𝑜𝑏)\n",
    "𝑖𝑓(𝑛𝑒𝑤𝐹𝑖𝑡𝑛𝑒𝑠𝑠 > 𝑓𝑖𝑡𝑛𝑒𝑠𝑠)\n",
    "𝑓𝑖𝑡𝑛𝑒𝑠𝑠 = 𝑛𝑒𝑤𝐹𝑖𝑡𝑛𝑒𝑠𝑠\n",
    "𝑝𝑜𝑏𝐴𝑐𝑡𝑢𝑎𝑙 = 𝑔𝑒𝑡𝑃𝑜𝑏(𝑛𝑒𝑤𝑃𝑜𝑏, 𝑝𝑜𝑏𝐴𝑐𝑡𝑢𝑎𝑙)//devuelve 50% de los\n",
    "mejores, 25% aleatorio y 25% de los mejores de la población\n",
    "anterior\n",
    "𝑐𝑜𝑛𝑡𝑎𝑑𝑜𝑟 ++\n",
    "}\n",
    "𝑠𝑜𝑙𝑢𝑐𝑖ó𝑛 = 𝑔𝑒𝑡𝑀𝑒𝑗𝑜𝑟𝐶𝑟𝑜𝑚𝑜𝑠𝑜𝑚𝑎(𝑝𝑜𝑏𝐴𝑐𝑡𝑢𝑎𝑙)\n",
    "𝑟𝑒𝑡𝑢𝑟𝑛 𝑠𝑜𝑙𝑢𝑐𝑖ón\n",
    "\n",
    "Conjuntos:\n",
    "\n",
    "P: pueblos p={1, 2, 3, 4, 5, 6}\n",
    "D: distancias entre antenas d={2.5, 5, 10} [Km]\n",
    "Row: filas en la grilla r={1,...,9}\n",
    "Col: columnas en la final c={1,...,13}\n",
    "\n",
    "Parámetros:\n",
    "\n",
    "Td: Tasa de bits en enlace a distancia d\n",
    "C: Costo de antena\n",
    "Dp: Demografía ciudad p. (Cantidad de habitantes)\n",
    "\n",
    "Variables:\n",
    "\n",
    "EP_r,c: {1, si existe pueblo en (r,c); 0, e.o.c.}\n",
    "AA_r,c: {1, si el area en (r,c) es accesible; 0, e.o.c.}\n",
    "UA_r,c: {1, si hay una antena ubicada en (r,c); 0, e.o.c.}\n",
    "Tp: tasa de bits en pueblo p.\n",
    "\n",
    "FO:\n",
    "\n",
    "alpha*(1/sum(UA_r,c * C)) + (1-alpha)Tp*Dp\n",
    "\n",
    "'''\n",
    "import numpy as np"
   ]
  },
  {
   "cell_type": "markdown",
   "id": "fa0b76b4",
   "metadata": {},
   "source": [
    "![image](grilla.png)"
   ]
  },
  {
   "cell_type": "code",
   "execution_count": 184,
   "id": "37ea800e",
   "metadata": {},
   "outputs": [
    {
     "name": "stdout",
     "output_type": "stream",
     "text": [
      "[[1. 1. 1. 1. 1. 1. 1. 1. 1. 1. 1. 1. 1.]\n",
      " [1. 1. 1. 1. 1. 1. 1. 1. 1. 1. 1. 1. 1.]\n",
      " [1. 1. 1. 1. 1. 1. 1. 1. 1. 1. 1. 1. 1.]\n",
      " [1. 1. 1. 1. 1. 1. 1. 1. 1. 1. 1. 1. 1.]\n",
      " [1. 1. 1. 1. 1. 1. 1. 1. 1. 1. 1. 1. 1.]\n",
      " [1. 1. 1. 1. 1. 1. 1. 1. 1. 1. 1. 1. 1.]\n",
      " [1. 1. 1. 1. 1. 1. 1. 1. 1. 1. 1. 1. 1.]\n",
      " [1. 1. 1. 1. 1. 1. 1. 1. 1. 1. 1. 1. 1.]\n",
      " [1. 1. 1. 1. 1. 1. 1. 1. 1. 1. 1. 1. 1.]] (9, 13)\n",
      "[[0. 0. 0. 1. 1. 1. 0. 1. 1. 1. 1. 1. 0.]\n",
      " [0. 1. 1. 1. 1. 1. 1. 1. 1. 0. 1. 1. 0.]\n",
      " [0. 0. 0. 0. 0. 1. 1. 1. 1. 0. 1. 1. 0.]\n",
      " [0. 0. 0. 0. 1. 1. 1. 1. 0. 1. 0. 1. 1.]\n",
      " [0. 0. 0. 0. 0. 1. 1. 1. 0. 0. 0. 1. 0.]\n",
      " [0. 0. 0. 0. 0. 0. 1. 1. 0. 1. 0. 1. 1.]\n",
      " [0. 0. 0. 0. 0. 0. 1. 1. 1. 1. 1. 1. 1.]\n",
      " [0. 0. 0. 0. 0. 0. 0. 1. 1. 1. 1. 1. 1.]\n",
      " [0. 0. 0. 0. 0. 0. 0. 1. 1. 0. 1. 1. 1.]]\n"
     ]
    }
   ],
   "source": [
    "max_iteraciones = 100\n",
    "contador = 0\n",
    "costo_antenas = 100\n",
    "avalaible_areas = np.ones((9,13))\n",
    "print(avalaible_areas,\n",
    "avalaible_areas.shape)\n",
    "\n",
    "inaccessible = np.array([0, 1, 2, 6, 12,\n",
    "                13, 22, 25,\n",
    "                26, 27, 28, 29 ,30, 35, 38,\n",
    "               39, 40, 41, 42, 47, 49,\n",
    "               52, 53, 54, 55, 56, 60, 61, 62, 64,\n",
    "               65, 66, 67, 68, 69, 70, 73, 75,\n",
    "               78, 79, 80, 81, 82, 83,\n",
    "               91, 92, 93, 94, 95, 96, 97,\n",
    "               104, 105, 106, 107, 108, 109, 110, 113])\n",
    "\n",
    "for row in range(avalaible_areas.shape[0]):\n",
    "    for col in range(avalaible_areas.shape[1]):\n",
    "        if row*avalaible_areas.shape[1] + col in inaccessible:\n",
    "            avalaible_areas[row][col] = 0\n",
    "            \n",
    "print(avalaible_areas)"
   ]
  },
  {
   "cell_type": "code",
   "execution_count": 185,
   "id": "5c9688c0",
   "metadata": {},
   "outputs": [
    {
     "name": "stdout",
     "output_type": "stream",
     "text": [
      "[[0. 0. 0. 0. 0. 0. 0. 0. 0. 0. 0. 0. 0.]\n",
      " [0. 1. 0. 0. 0. 0. 0. 1. 1. 0. 0. 0. 0.]\n",
      " [0. 0. 0. 0. 0. 0. 0. 0. 0. 0. 0. 0. 0.]\n",
      " [0. 0. 0. 0. 0. 0. 0. 1. 0. 0. 0. 0. 0.]\n",
      " [0. 0. 0. 0. 0. 0. 0. 0. 0. 0. 0. 0. 0.]\n",
      " [0. 0. 0. 0. 0. 0. 0. 0. 0. 0. 0. 1. 0.]\n",
      " [0. 0. 0. 0. 0. 0. 0. 0. 0. 0. 0. 0. 0.]\n",
      " [0. 0. 0. 0. 0. 0. 0. 0. 0. 0. 0. 0. 0.]\n",
      " [0. 0. 0. 0. 0. 0. 0. 1. 0. 0. 0. 0. 1.]]\n"
     ]
    }
   ],
   "source": [
    "town_matrix = np.zeros((9, 13))\n",
    "\n",
    "town = np.array([\n",
    "    14, 20, 21,\n",
    "    46,\n",
    "    76,\n",
    "    111, 116\n",
    "])\n",
    "\n",
    "for row in range(town_matrix.shape[0]):\n",
    "    for col in range(town_matrix.shape[1]):\n",
    "        if row*town_matrix.shape[1] + col in town:\n",
    "            town_matrix[row][col] = 1\n",
    "            \n",
    "\n",
    "print(town_matrix)"
   ]
  },
  {
   "cell_type": "code",
   "execution_count": 186,
   "id": "3860c227",
   "metadata": {},
   "outputs": [
    {
     "data": {
      "text/plain": [
       "0.00981653974694452"
      ]
     },
     "execution_count": 186,
     "metadata": {},
     "output_type": "execute_result"
    }
   ],
   "source": [
    "np.random.uniform(0, 1)"
   ]
  },
  {
   "cell_type": "code",
   "execution_count": 187,
   "id": "f8daba0c",
   "metadata": {},
   "outputs": [],
   "source": [
    "def genPob(inaccessible_areas, towns, n=1):\n",
    "    poblation_matrix = np.array([[]])\n",
    "    for iter in range(n):\n",
    "        antenna_matrix = np.zeros((9, 13))\n",
    "        for row in range(antenna_matrix.shape[0]):\n",
    "            for col in range(antenna_matrix.shape[1]):\n",
    "                if ((row*antenna_matrix.shape[1] + col not in inaccessible_areas and np.random.uniform(0, 1) >= 0.5) or (row*antenna_matrix.shape[1] + col in towns)):\n",
    "                    antenna_matrix[row][col] = 1\n",
    "        #print(antenna_matrix)\n",
    "        if poblation_matrix.size == 0:\n",
    "            poblation_matrix = antenna_matrix\n",
    "        else:\n",
    "            poblation_matrix = np.append(poblation_matrix, antenna_matrix, axis=0)\n",
    "    return poblation_matrix\n",
    "    "
   ]
  },
  {
   "cell_type": "code",
   "execution_count": 188,
   "id": "68bf2dc0",
   "metadata": {},
   "outputs": [
    {
     "name": "stdout",
     "output_type": "stream",
     "text": [
      "[[0. 0. 0. 1. 1. 1. 0. 0. 1. 0. 1. 0. 0.]\n",
      " [0. 1. 1. 0. 0. 0. 0. 1. 1. 0. 1. 1. 0.]\n",
      " [0. 0. 0. 0. 0. 0. 1. 1. 0. 0. 1. 1. 0.]\n",
      " [0. 0. 0. 0. 0. 0. 1. 1. 0. 0. 0. 0. 1.]\n",
      " [0. 0. 0. 0. 0. 1. 1. 0. 0. 0. 0. 1. 0.]\n",
      " [0. 0. 0. 0. 0. 0. 0. 0. 0. 1. 0. 1. 1.]\n",
      " [0. 0. 0. 0. 0. 0. 1. 1. 1. 1. 0. 0. 0.]\n",
      " [0. 0. 0. 0. 0. 0. 0. 1. 1. 0. 0. 1. 0.]\n",
      " [0. 0. 0. 0. 0. 0. 0. 1. 1. 0. 1. 1. 1.]]\n"
     ]
    }
   ],
   "source": [
    "poblation = genPob(inaccessible, town)\n",
    "print(poblation)"
   ]
  },
  {
   "cell_type": "code",
   "execution_count": 193,
   "id": "24ffe1d7",
   "metadata": {},
   "outputs": [],
   "source": [
    "def getMovVector(pos, cols):\n",
    "    mov = [[pos - cols - 3, pos - cols - 2, pos - cols - 1, pos - cols, pos - cols + 1, pos - cols + 2, pos - cols + 3],\n",
    "           [pos - 3, pos - 2, pos - 1, pos, pos + 1, pos + 2, pos + 3],\n",
    "           [pos + cols - 3, pos + cols - 2, pos + cols - 1, pos + cols, pos + cols + 1, pos + cols + 2, pos + cols + 3]]\n",
    "    return mov\n",
    "\n",
    "def getShortRoute(poblation_matrix, towns):\n",
    "    possible_route = False\n",
    "    rows = poblation_matrix.shape[0]\n",
    "    cols = poblation_matrix.shape[1]\n",
    "    vision_sizes = [1, 2, 3]\n",
    "    \n",
    "    for town in towns:\n",
    "        distance_allowed = 1\n",
    "        while not possible_route:\n",
    "            pos = town\n",
    "            route = [pos]\n",
    "            while route[-1] == 116:\n",
    "                skip = False\n",
    "                mov = getMovVector(pos, cols)\n",
    "                for row in mov:\n",
    "                    for step in range(distance_allowed*2 + 1):\n",
    "                        print(int(len(row)/2), row[int(len(row)/2) - distance_allowed + step])\n",
    "                        if row[int(len(row)/2) - distance_allowed + step] == 1:\n",
    "                            route.append(int(step/2) - distance_allowed + step)\n",
    "                            pos = int(step/2) - distance_allowed + step\n",
    "                            skip = True\n",
    "                            break\n",
    "                    if skip == True:\n",
    "                        print(\"hola\")\n",
    "                        break\n",
    "\n",
    "                 \n",
    "            \n",
    "        "
   ]
  },
  {
   "cell_type": "code",
   "execution_count": null,
   "id": "877dcf88",
   "metadata": {},
   "outputs": [],
   "source": [
    "getShortRoute(poblation, town)"
   ]
  },
  {
   "cell_type": "code",
   "execution_count": 191,
   "id": "113909c6",
   "metadata": {},
   "outputs": [
    {
     "ename": "SyntaxError",
     "evalue": "invalid syntax (<ipython-input-191-9b2688bb935e>, line 4)",
     "output_type": "error",
     "traceback": [
      "\u001b[1;36m  File \u001b[1;32m\"<ipython-input-191-9b2688bb935e>\"\u001b[1;36m, line \u001b[1;32m4\u001b[0m\n\u001b[1;33m    fitness = alpha * n_antennas * costo_antenas + (1 - alpha) *\u001b[0m\n\u001b[1;37m                                                                 ^\u001b[0m\n\u001b[1;31mSyntaxError\u001b[0m\u001b[1;31m:\u001b[0m invalid syntax\n"
     ]
    }
   ],
   "source": [
    "def getFitness(poblation_matrix, costo_antenas, alpha = 0.5):\n",
    "    n_antennas = np.sum(poblation_matrix)\n",
    "    \n",
    "    fitness = alpha * n_antennas * costo_antenas + (1 - alpha) * \n",
    "    \n",
    "    return fitness\n",
    "    "
   ]
  },
  {
   "cell_type": "code",
   "execution_count": 192,
   "id": "c0127cff",
   "metadata": {
    "scrolled": false
   },
   "outputs": [
    {
     "data": {
      "text/plain": [
       "36.0"
      ]
     },
     "execution_count": 192,
     "metadata": {},
     "output_type": "execute_result"
    }
   ],
   "source": [
    "getFitness(poblation, costo_antenas)"
   ]
  },
  {
   "cell_type": "code",
   "execution_count": null,
   "id": "84035a19",
   "metadata": {},
   "outputs": [],
   "source": []
  }
 ],
 "metadata": {
  "kernelspec": {
   "display_name": "Python 3",
   "language": "python",
   "name": "python3"
  },
  "language_info": {
   "codemirror_mode": {
    "name": "ipython",
    "version": 3
   },
   "file_extension": ".py",
   "mimetype": "text/x-python",
   "name": "python",
   "nbconvert_exporter": "python",
   "pygments_lexer": "ipython3",
   "version": "3.8.10"
  }
 },
 "nbformat": 4,
 "nbformat_minor": 5
}
